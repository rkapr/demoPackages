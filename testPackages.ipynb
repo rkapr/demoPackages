{
 "cells": [
  {
   "cell_type": "code",
   "execution_count": 1,
   "metadata": {},
   "outputs": [
    {
     "name": "stdout",
     "output_type": "stream",
     "text": [
      "Now in the demo file!\n"
     ]
    }
   ],
   "source": [
    "import simplepypkg.demo as spp\n",
    "spp.demoprint()"
   ]
  },
  {
   "cell_type": "code",
   "execution_count": 12,
   "metadata": {},
   "outputs": [
    {
     "name": "stdout",
     "output_type": "stream",
     "text": [
      "Now in the subpackage demo file!\n"
     ]
    }
   ],
   "source": [
    "import simplepypkg.subpypkg.subdemo as spp\n",
    "spp.subdemoprint()"
   ]
  },
  {
   "cell_type": "code",
   "execution_count": 16,
   "metadata": {},
   "outputs": [
    {
     "name": "stdout",
     "output_type": "stream",
     "text": [
      "Naboo has a mass of 1.0794602698650675e+22 and a volume of 377040000000.0\n"
     ]
    }
   ],
   "source": [
    "from simplepypkg.planetpkg.planet import Planet\n",
    "from simplepypkg.planetpkg.calc import planet_mass,planet_vol\n",
    "\n",
    "naboo = Planet('Naboo',300000,8,'Naboo System')\n",
    "naboo_mass = planet_mass(naboo.gravity,naboo.radius)\n",
    "naboo_vol = planet_vol(naboo.radius)\n",
    "\n",
    "print(f'{naboo.name} has a mass of {naboo_mass} and a volume of {naboo_vol}')"
   ]
  },
  {
   "cell_type": "code",
   "execution_count": null,
   "metadata": {
    "collapsed": true
   },
   "outputs": [],
   "source": []
  }
 ],
 "metadata": {
  "kernelspec": {
   "display_name": "Python 3",
   "language": "python",
   "name": "python3"
  },
  "language_info": {
   "codemirror_mode": {
    "name": "ipython",
    "version": 3
   },
   "file_extension": ".py",
   "mimetype": "text/x-python",
   "name": "python",
   "nbconvert_exporter": "python",
   "pygments_lexer": "ipython3",
   "version": "3.6.1"
  }
 },
 "nbformat": 4,
 "nbformat_minor": 2
}
